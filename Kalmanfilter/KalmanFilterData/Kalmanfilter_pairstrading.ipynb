{
 "cells": [
  {
   "cell_type": "code",
   "execution_count": 11,
   "metadata": {
    "colab": {},
    "colab_type": "code",
    "id": "9lGejB8kwMUc"
   },
   "outputs": [],
   "source": [
    "# Import a Kalman filter and other libraries\n",
    "!pip install pykalman\n",
    "!pip install qq-training-wheels auquan_toolbox --upgrade\n",
    "from pykalman import KalmanFilter\n",
    "import numpy as np\n",
    "import pandas as pd\n",
    "from scipy import poly1d\n",
    "from datetime import datetime\n",
    "\n",
    "import matplotlib.pyplot as plt\n",
    "%matplotlib inline\n",
    "plt.style.use('seaborn-darkgrid')\n",
    "plt.rcParams['figure.figsize'] = (10,7)"
   ]
  },
  {
   "cell_type": "markdown",
   "metadata": {
    "colab_type": "text",
    "id": "pJFy4sru2b68"
   },
   "source": [
    "#### **Read the data**\n",
    "\n",
    "4 year (Aug 2015 - Aug 2019) Adjusted Close price data for Bajaj Auto Limited (BAJAJ-AUTO.NS) and Hero MotoCorp Limited (HEROMOTOCO.NS) is considered\n",
    "\n",
    "\n",
    "  "
   ]
  },
  {
   "cell_type": "code",
   "execution_count": 3,
   "metadata": {
    "colab": {
     "base_uri": "https://localhost:8080/",
     "height": 230
    },
    "colab_type": "code",
    "id": "0PifRMkLwUK0",
    "outputId": "eca29e60-8521-405c-eb61-912b78118f84"
   },
   "outputs": [
    {
     "data": {
      "text/html": [
       "<div>\n",
       "<style scoped>\n",
       "    .dataframe tbody tr th:only-of-type {\n",
       "        vertical-align: middle;\n",
       "    }\n",
       "\n",
       "    .dataframe tbody tr th {\n",
       "        vertical-align: top;\n",
       "    }\n",
       "\n",
       "    .dataframe thead th {\n",
       "        text-align: right;\n",
       "    }\n",
       "</style>\n",
       "<table border=\"1\" class=\"dataframe\">\n",
       "  <thead>\n",
       "    <tr style=\"text-align: right;\">\n",
       "      <th></th>\n",
       "      <th>BAJAJ</th>\n",
       "      <th>HERO</th>\n",
       "      <th>ratio</th>\n",
       "    </tr>\n",
       "    <tr>\n",
       "      <th>Date</th>\n",
       "      <th></th>\n",
       "      <th></th>\n",
       "      <th></th>\n",
       "    </tr>\n",
       "  </thead>\n",
       "  <tbody>\n",
       "    <tr>\n",
       "      <td>8/6/2015</td>\n",
       "      <td>2262.835938</td>\n",
       "      <td>2243.790527</td>\n",
       "      <td>1.008488</td>\n",
       "    </tr>\n",
       "    <tr>\n",
       "      <td>8/7/2015</td>\n",
       "      <td>2226.897217</td>\n",
       "      <td>2252.889160</td>\n",
       "      <td>0.988463</td>\n",
       "    </tr>\n",
       "    <tr>\n",
       "      <td>8/10/2015</td>\n",
       "      <td>2241.992432</td>\n",
       "      <td>2288.520996</td>\n",
       "      <td>0.979669</td>\n",
       "    </tr>\n",
       "    <tr>\n",
       "      <td>8/11/2015</td>\n",
       "      <td>2229.091309</td>\n",
       "      <td>2275.359619</td>\n",
       "      <td>0.979665</td>\n",
       "    </tr>\n",
       "    <tr>\n",
       "      <td>8/12/2015</td>\n",
       "      <td>2160.899414</td>\n",
       "      <td>2229.994629</td>\n",
       "      <td>0.969016</td>\n",
       "    </tr>\n",
       "  </tbody>\n",
       "</table>\n",
       "</div>"
      ],
      "text/plain": [
       "                 BAJAJ         HERO     ratio\n",
       "Date                                         \n",
       "8/6/2015   2262.835938  2243.790527  1.008488\n",
       "8/7/2015   2226.897217  2252.889160  0.988463\n",
       "8/10/2015  2241.992432  2288.520996  0.979669\n",
       "8/11/2015  2229.091309  2275.359619  0.979665\n",
       "8/12/2015  2160.899414  2229.994629  0.969016"
      ]
     },
     "execution_count": 3,
     "metadata": {},
     "output_type": "execute_result"
    }
   ],
   "source": [
    "# Define path where data file is saved in your system\n",
    "#path = '../data/'\n",
    "data = pd.read_csv(path +'data.csv', index_col ='Date')\n",
    "data['ratio'] = data['BAJAJ']/ data['HERO']\n",
    "stock_1 = data['BAJAJ']\n",
    "stock_2 = data['HERO']\n",
    "\n",
    "# Calculate the hedge ratio for pairs trading\n",
    "ratio =stock_1/stock_2\n",
    "data.head()"
   ]
  },
  {
   "cell_type": "markdown",
   "metadata": {
    "colab_type": "text",
    "id": "bxQWQgn8NP_q"
   },
   "source": [
    "#### **Kalman Filter**\n",
    "\n",
    "Kalman filter is an algorithm that uses noisy observations of a system over time to estimate the parameters of the system (some of which are unobservable) and predict future observations. At each time step, it makes a prediction, takes in a measurement, and updates itself based on how the prediction and measurement compare.\n",
    "\n",
    "Hyperparameters of kalman filter can be changed for say use:\n",
    "\n",
    "1. Multi dimensional transition matrices, to use more of past information for making predictions at each point\n",
    "2. Different values of observation and transition covariance\n",
    "\n",
    "\n"
   ]
  },
  {
   "cell_type": "code",
   "execution_count": 4,
   "metadata": {
    "colab": {
     "base_uri": "https://localhost:8080/",
     "height": 472
    },
    "colab_type": "code",
    "id": "cG6R5HOwzFGN",
    "outputId": "a342437b-421e-49ed-d8ae-acb4feefb75b"
   },
   "outputs": [
    {
     "data": {
      "text/plain": [
       "Text(0, 0.5, 'Value')"
      ]
     },
     "execution_count": 4,
     "metadata": {},
     "output_type": "execute_result"
    },
    {
     "data": {
      "image/png": "[encoded data removed]",
      "text/plain": [
       "<Figure size 1080x504 with 1 Axes>"
      ]
     },
     "metadata": {
      "needs_background": "light"
     },
     "output_type": "display_data"
    }
   ],
   "source": [
    "kf = KalmanFilter(transition_matrices = [1],\n",
    "              observation_matrices = [1],\n",
    "              initial_state_mean = 0,\n",
    "              initial_state_covariance = 1,\n",
    "              observation_covariance=1,\n",
    "              transition_covariance=.0001)\n",
    "\n",
    "mean, cov = kf.filter(ratio.values)\n",
    "mean, std = mean.squeeze(), np.std(cov.squeeze())\n",
    "\n",
    "plt.figure(figsize=(15,7))\n",
    "plt.plot(ratio.values - mean, 'm', lw=1)\n",
    "plt.plot(np.sqrt(cov.squeeze()), 'y', lw=1)\n",
    "plt.plot(-np.sqrt(cov.squeeze()), 'c', lw=1)\n",
    "plt.title('Kalman filter estimate')\n",
    "plt.legend(['Error: real_value - mean', 'std', '-std'])\n",
    "plt.xlabel('Day')\n",
    "plt.ylabel('Value')\n"
   ]
  },
  {
   "cell_type": "markdown",
   "metadata": {
    "colab_type": "text",
    "id": "jmskyvh8sed_"
   },
   "source": [
    "#### **Pairs trading strategy**\n",
    "In pairs trading strategy we buy one stock and sell the other stock choosing the quantity as hedge ratio"
   ]
  },
  {
   "cell_type": "code",
   "execution_count": 5,
   "metadata": {
    "colab": {},
    "colab_type": "code",
    "id": "5AORF4zfzHSY"
   },
   "outputs": [],
   "source": [
    "# Use the observed values of the price to get a rolling mean and z_score\n",
    "mean, cov =  kf.filter(ratio.values)\n",
    "data['mean'] = mean.squeeze()\n",
    "data['cov'] = cov.squeeze()\n",
    "data['std'] = np.sqrt(data['cov'])\n",
    "data = data.dropna()\n"
   ]
  },
  {
   "cell_type": "code",
   "execution_count": 6,
   "metadata": {
    "colab": {},
    "colab_type": "code",
    "id": "aum1m3pCRn7r"
   },
   "outputs": [],
   "source": [
    "data['ma'] = data['ratio'].rolling(5).mean()\n",
    "data['z_score'] = (data['ma'] - data['mean'])/data['std']"
   ]
  },
  {
   "cell_type": "code",
   "execution_count": 7,
   "metadata": {
    "colab": {},
    "colab_type": "code",
    "id": "2reWNsW3CIJq"
   },
   "outputs": [],
   "source": [
    "# Initialise positions as zero\n",
    "data['position_1'] = np.nan\n",
    "data['position_2'] = np.nan"
   ]
  },
  {
   "cell_type": "code",
   "execution_count": 8,
   "metadata": {
    "colab": {},
    "colab_type": "code",
    "id": "RsvIYjDRCINr"
   },
   "outputs": [],
   "source": [
    "# Generate buy, sell and square off signals as: z<-1 buy, z>1 sell and -1<z<1 liquidate the position\n",
    "for i in range (data.shape[0]):\n",
    "  if data['z_score'].iloc[i] < -1:\n",
    "    data['position_1'].iloc[i] = 1\n",
    "    data['position_2'].iloc[i] = -round(data['ratio'].iloc[i],0)\n",
    "  if data['z_score'].iloc[i] > 1:\n",
    "    data['position_1'].iloc[i] = -1\n",
    "    data['position_2'].iloc[i] = round(data['ratio'].iloc[i],0)\n",
    "  if (abs(data['z_score'].iloc[i]) < 1) & (abs(data['z_score'].iloc[i]) > 0):\n",
    "    data['position_1'].iloc[i] = 0\n",
    "    data['position_2'].iloc[i] = 0"
   ]
  },
  {
   "cell_type": "code",
   "execution_count": 9,
   "metadata": {
    "colab": {
     "base_uri": "https://localhost:8080/",
     "height": 35
    },
    "colab_type": "code",
    "id": "2nm7EQhUJaUS",
    "outputId": "66f926b1-f477-4154-9c68-54275c2fad41"
   },
   "outputs": [
    {
     "data": {
      "text/plain": [
       "0.12282433836398741"
      ]
     },
     "execution_count": 9,
     "metadata": {},
     "output_type": "execute_result"
    }
   ],
   "source": [
    "# Calculate returns\n",
    "data['returns'] = ((data['BAJAJ']-data['BAJAJ'].shift(1))/data['BAJAJ'].shift(1))*data['position_1'].shift(1)+ ((data['HERO']-data['HERO'].shift(1))/data['HERO'].shift(1))*data['position_2'].shift(1)\n",
    "data['returns'].sum()"
   ]
  }
 ],
 "metadata": {
  "colab": {
   "collapsed_sections": [],
   "name": "Kalmanfilter_pairstrading.ipynb",
   "provenance": []
  },
  "kernelspec": {
   "display_name": "Python 3",
   "language": "python",
   "name": "python3"
  },
  "language_info": {
   "codemirror_mode": {
    "name": "ipython",
    "version": 3
   },
   "file_extension": ".py",
   "mimetype": "text/x-python",
   "name": "python",
   "nbconvert_exporter": "python",
   "pygments_lexer": "ipython3",
   "version": "3.7.4"
  }
 },
 "nbformat": 4,
 "nbformat_minor": 1
}
